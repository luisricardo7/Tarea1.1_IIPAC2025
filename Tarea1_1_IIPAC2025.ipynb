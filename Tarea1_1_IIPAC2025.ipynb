{
  "nbformat": 4,
  "nbformat_minor": 0,
  "metadata": {
    "colab": {
      "provenance": []
    },
    "kernelspec": {
      "name": "python3",
      "display_name": "Python 3"
    },
    "language_info": {
      "name": "python"
    }
  },
  "cells": [
    {
      "cell_type": "code",
      "source": [
        "#Ejercicio 1: Calcular el número mayor de una lista sin usar max\n",
        "#Cree un programa que reciba una lista de números y devuelva el número mayor sin usar la función max()\n",
        "\n",
        "def numero_mayor(lista):\n",
        "    if not lista:\n",
        "        return None\n",
        "    mayor = lista[0]\n",
        "    for numero in lista[1:]:\n",
        "        if numero > mayor:\n",
        "            mayor = numero\n",
        "    return mayor\n",
        "\n",
        "numeros = [3, 7, 2, 9, 5, 15, 3431, 51, 51]\n",
        "mayor = numero_mayor(numeros)\n",
        "print(mayor)"
      ],
      "metadata": {
        "colab": {
          "base_uri": "https://localhost:8080/"
        },
        "id": "fLeqvTeeNWxm",
        "outputId": "76d3ca5e-b3c0-4741-fbb1-701922d912b8"
      },
      "execution_count": 3,
      "outputs": [
        {
          "output_type": "stream",
          "name": "stdout",
          "text": [
            "3431\n"
          ]
        }
      ]
    },
    {
      "cell_type": "code",
      "source": [
        "#Ejercicio 2: Escriba un programa que solicite un número al usuario y muestre la tabla de multiplicar del 1 al 10 de ese número.\n",
        "\n",
        "numero = int(input(\"Ingrese un número: \"))\n",
        "for i in range(1, 11):\n",
        "    print(f\"{numero} x {i} = {numero * i}\")"
      ],
      "metadata": {
        "colab": {
          "base_uri": "https://localhost:8080/"
        },
        "id": "g5QTfsknOvAF",
        "outputId": "5b897e47-dfb8-4cac-d1ef-e15c9b07780d"
      },
      "execution_count": 7,
      "outputs": [
        {
          "output_type": "stream",
          "name": "stdout",
          "text": [
            "Ingrese un número: 100\n",
            "100 x 1 = 100\n",
            "100 x 2 = 200\n",
            "100 x 3 = 300\n",
            "100 x 4 = 400\n",
            "100 x 5 = 500\n",
            "100 x 6 = 600\n",
            "100 x 7 = 700\n",
            "100 x 8 = 800\n",
            "100 x 9 = 900\n",
            "100 x 10 = 1000\n"
          ]
        }
      ]
    },
    {
      "cell_type": "code",
      "source": [
        "#Ejercicio 3: Cree un programa que elimine los elementos repetidos de una lista y devuelva una nueva lista con elementos únicos ordenados.\n",
        "\n",
        "def eliminar(lista):\n",
        "    unicos = []\n",
        "    for elemento in lista:\n",
        "        if elemento not in unicos:\n",
        "            unicos.append(elemento)\n",
        "    unicos.sort()\n",
        "    return unicos\n",
        "\n",
        "numeros = [4, 2, 7, 2, 5, 4, 9, 1, 1, 9, 3, 43, 2, 6, 1, 5, 9, 5, 0]\n",
        "resultado = eliminar(numeros)\n",
        "print(resultado)\n"
      ],
      "metadata": {
        "colab": {
          "base_uri": "https://localhost:8080/"
        },
        "id": "Wh24-V14PTHP",
        "outputId": "234a6a55-2fc8-4468-bf19-3f3f604bdc83"
      },
      "execution_count": 9,
      "outputs": [
        {
          "output_type": "stream",
          "name": "stdout",
          "text": [
            "[0, 1, 2, 3, 4, 5, 6, 7, 9, 43]\n"
          ]
        }
      ]
    },
    {
      "cell_type": "code",
      "source": [
        "# Ejercicio 4: Escriba un programa que solicite ingresar el nombre de varios estudiantes y su nota,\n",
        "# y lo almacene en un diccionario. Al final, muestra los datos almacenados.\n",
        "\n",
        "estudiantes = {}\n",
        "while True:\n",
        "    nombre = input(\"Escribe el nombre del estudiante (o escribe 'fin' para terminar): \")\n",
        "    if nombre.lower() == 'fin':\n",
        "        break\n",
        "\n",
        "    nota = input(\"Escribe la nota de \" + nombre + \": \")\n",
        "    estudiantes[nombre] = nota\n",
        "\n",
        "print(estudiantes)"
      ],
      "metadata": {
        "colab": {
          "base_uri": "https://localhost:8080/"
        },
        "id": "4_wq3dRYR6FN",
        "outputId": "9e9a04dc-f252-4548-8d38-7a206eba8d0a"
      },
      "execution_count": 15,
      "outputs": [
        {
          "output_type": "stream",
          "name": "stdout",
          "text": [
            "Escribe el nombre del estudiante (o escribe 'fin' para terminar): Carlos\n",
            "Escribe la nota de Carlos: 42\n",
            "Escribe el nombre del estudiante (o escribe 'fin' para terminar): Luis\n",
            "Escribe la nota de Luis: 52\n",
            "Escribe el nombre del estudiante (o escribe 'fin' para terminar): Alejandra\n",
            "Escribe la nota de Alejandra: 44\n",
            "Escribe el nombre del estudiante (o escribe 'fin' para terminar): fin\n",
            "{'Carlos': '42', 'Luis': '52', 'Alejandra': '44'}\n"
          ]
        }
      ]
    },
    {
      "cell_type": "code",
      "source": [
        "# Ejercicio 5: Sumar ventas por producto Dado el siguiente diccionario:\n",
        "\n",
        "ventas = {\n",
        "'Producto': ['A', 'B', 'A', 'C', 'B', 'A'],\n",
        "'Cantidad': [10, 5, 7, 3, 2, 8]\n",
        "}\n",
        "# Agrupa las cantidades por producto y muestra la suma total de ventas por cada uno.\n",
        "\n",
        "cantidades = {}\n",
        "for i in range(len(ventas['Producto'])):\n",
        "    producto = ventas['Producto'][i]\n",
        "    cantidad = ventas['Cantidad'][i]\n",
        "    if producto in cantidades:\n",
        "        cantidades[producto] += cantidad\n",
        "    else:\n",
        "        cantidades[producto] = cantidad\n",
        "print(cantidades)"
      ],
      "metadata": {
        "colab": {
          "base_uri": "https://localhost:8080/"
        },
        "id": "xHUNUmpMTOiE",
        "outputId": "571afe07-c7e4-430b-d4f5-3779ae4d24c8"
      },
      "execution_count": 17,
      "outputs": [
        {
          "output_type": "stream",
          "name": "stdout",
          "text": [
            "{'A': 25, 'B': 7, 'C': 3}\n"
          ]
        }
      ]
    }
  ]
}